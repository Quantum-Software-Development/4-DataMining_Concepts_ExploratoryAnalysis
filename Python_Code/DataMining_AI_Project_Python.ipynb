{
  "nbformat": 4,
  "nbformat_minor": 0,
  "metadata": {
    "colab": {
      "private_outputs": true,
      "provenance": []
    },
    "kernelspec": {
      "name": "python3",
      "display_name": "Python 3"
    },
    "language_info": {
      "name": "python"
    }
  },
  "cells": [
    {
      "cell_type": "code",
      "source": [
        "from google.colab import userdata\n",
        "userdata.get('GOOGLE_API_KEY_1')"
      ],
      "metadata": {
        "id": "M_hwHEaePlSl"
      },
      "execution_count": null,
      "outputs": []
    },
    {
      "cell_type": "code",
      "metadata": {
        "id": "1598e8b2"
      },
      "source": [
        "%load_ext rpy2.ipython\n",
        "%R options(repr.plot.width=4, repr.plot.height=4)"
      ],
      "execution_count": null,
      "outputs": []
    },
    {
      "cell_type": "code",
      "metadata": {
        "id": "8bace4f7"
      },
      "source": [
        "%%R\n",
        "# Create sample dataset\n",
        "data <- data.frame(\n",
        "  age = c(25, 30, 22, 40),\n",
        "  height = c(186, 164, 175, 180),\n",
        "  gender = c(\"male\", \"female\", \"male\", \"female\")\n",
        ")\n",
        "print(\"Custom Dataset:\")\n",
        "print(data)"
      ],
      "execution_count": null,
      "outputs": []
    },
    {
      "cell_type": "code",
      "metadata": {
        "id": "b583655e"
      },
      "source": [
        "%%R\n",
        "# K-Means Clustering Example\n",
        "fruit <- data.frame(\n",
        "  shape = c(5, 4, 1, 2),\n",
        "  color = c(7, 8, 2, 1)\n",
        ")\n",
        "km <- kmeans(fruit, centers = 2)\n",
        "fruit$cluster <- km$cluster\n",
        "print(\"Fruit Clustering Result:\")\n",
        "print(fruit)"
      ],
      "execution_count": null,
      "outputs": []
    },
    {
      "cell_type": "code",
      "metadata": {
        "id": "6fa190c2"
      },
      "source": [
        "%%R\n",
        "# Logistic Regression for Credit Classification\n",
        "data <- data.frame(\n",
        "  income = c(2300, 4000, 1200, 6000),\n",
        "  score = c(600, 700, 550, 800),\n",
        "  approved = c(0, 1, 0, 1)\n",
        ")\n",
        "model <- glm(approved ~ income + score, family = binomial, data = data)\n",
        "new_client <- data.frame(income = 3000, score = 650)\n",
        "pred_prob <- predict(model, newdata = new_client, type = \"response\")\n",
        "prediction <- ifelse(pred_prob > 0.5, 1, 0)\n",
        "print(paste(\"Prediction for new client:\", ifelse(prediction == 1, \"Approved\", \"Denied\")))"
      ],
      "execution_count": null,
      "outputs": []
    },
    {
      "cell_type": "code",
      "metadata": {
        "id": "309679cf"
      },
      "source": [
        "%%R\n",
        "# Create sample dataset\n",
        "data <- data.frame(\n",
        "  age = c(25, 30, 22, 40),\n",
        "  height = c(186, 164, 175, 180),\n",
        "  gender = c(\"male\", \"female\", \"male\", \"female\")\n",
        ")\n",
        "print(\"Custom Dataset:\")\n",
        "print(data)"
      ],
      "execution_count": null,
      "outputs": []
    },
    {
      "cell_type": "code",
      "metadata": {
        "id": "b5779156"
      },
      "source": [
        "%%R\n",
        "# K-Means Clustering Example\n",
        "fruit <- data.frame(\n",
        "  shape = c(5, 4, 1, 2),\n",
        "  color = c(7, 8, 2, 1)\n",
        ")\n",
        "km <- kmeans(fruit, centers = 2)\n",
        "fruit$cluster <- km$cluster\n",
        "print(\"Fruit Clustering Result:\")\n",
        "print(fruit)"
      ],
      "execution_count": null,
      "outputs": []
    },
    {
      "cell_type": "code",
      "metadata": {
        "id": "0fc2cbbf"
      },
      "source": [
        "%%R\n",
        "# Logistic Regression for Credit Classification\n",
        "data <- data.frame(\n",
        "  income = c(2300, 4000, 1200, 6000),\n",
        "  score = c(600, 700, 550, 800),\n",
        "  approved = c(0, 1, 0, 1)\n",
        ")\n",
        "model <- glm(approved ~ income + score, family = binomial, data = data)\n",
        "new_client <- data.frame(income = 3000, score = 650)\n",
        "pred_prob <- predict(model, newdata = new_client, type = \"response\")\n",
        "prediction <- ifelse(pred_prob > 0.5, 1, 0)\n",
        "print(paste(\"Prediction for new client:\", ifelse(prediction == 1, \"Approved\", \"Denied\")))"
      ],
      "execution_count": null,
      "outputs": []
    },
    {
      "cell_type": "markdown",
      "metadata": {
        "id": "fe540cd0"
      },
      "source": [
        "# Task\n",
        "Translate the provided R code into Python."
      ]
    },
    {
      "cell_type": "markdown",
      "metadata": {
        "id": "7596558a"
      },
      "source": [
        "## Set up python environment\n",
        "\n",
        "### Subtask:\n",
        "Ensure necessary Python libraries like pandas and scikit-learn are available.\n"
      ]
    },
    {
      "cell_type": "markdown",
      "metadata": {
        "id": "78c2d797"
      },
      "source": [
        "**Reasoning**:\n",
        "Check if pandas and scikit-learn are installed by attempting to import them.\n",
        "\n"
      ]
    },
    {
      "cell_type": "code",
      "metadata": {
        "id": "4b92d273"
      },
      "source": [
        "try:\n",
        "    import pandas as pd\n",
        "    import sklearn\n",
        "    print(\"pandas and scikit-learn are already installed.\")\n",
        "except ImportError:\n",
        "    print(\"pandas or scikit-learn not found. Installing...\")\n",
        "    !pip install pandas scikit-learn\n",
        "    import pandas as pd\n",
        "    import sklearn\n",
        "    print(\"pandas and scikit-learn installed successfully.\")"
      ],
      "execution_count": null,
      "outputs": []
    },
    {
      "cell_type": "markdown",
      "metadata": {
        "id": "be95d793"
      },
      "source": [
        "## Translate data creation\n",
        "\n",
        "### Subtask:\n",
        "Convert the R code for creating the sample dataset and fruit data into Python using pandas DataFrames.\n"
      ]
    },
    {
      "cell_type": "markdown",
      "metadata": {
        "id": "fbc46d25"
      },
      "source": [
        "**Reasoning**:\n",
        "Convert the R dataframes `data` and `fruit` to pandas DataFrames in Python and display them.\n",
        "\n"
      ]
    },
    {
      "cell_type": "code",
      "metadata": {
        "id": "3c028a20"
      },
      "source": [
        "import pandas as pd\n",
        "\n",
        "# Create the 'data' DataFrame\n",
        "data = pd.DataFrame({\n",
        "    'age': [25, 30, 22, 40],\n",
        "    'height': [186, 164, 175, 180],\n",
        "    'gender': ['male', 'female', 'male', 'female']\n",
        "})\n",
        "\n",
        "# Create the 'fruit' DataFrame\n",
        "fruit = pd.DataFrame({\n",
        "    'shape': [5, 4, 1, 2],\n",
        "    'color': [7, 8, 2, 1]\n",
        "})\n",
        "\n",
        "print(\"Custom Dataset:\")\n",
        "display(data)\n",
        "\n",
        "print(\"\\nFruit Data:\")\n",
        "display(fruit)"
      ],
      "execution_count": null,
      "outputs": []
    },
    {
      "cell_type": "markdown",
      "metadata": {
        "id": "b2240a19"
      },
      "source": [
        "## Translate k-means clustering\n",
        "\n",
        "### Subtask:\n",
        "Convert the R K-Means clustering code to Python using scikit-learn.\n"
      ]
    },
    {
      "cell_type": "markdown",
      "metadata": {
        "id": "d47e9c69"
      },
      "source": [
        "**Reasoning**:\n",
        "Convert the R K-Means clustering code to Python using scikit-learn as instructed.\n",
        "\n"
      ]
    },
    {
      "cell_type": "code",
      "metadata": {
        "id": "febe3b34"
      },
      "source": [
        "from sklearn.cluster import KMeans\n",
        "\n",
        "# Instantiate KMeans with n_clusters=2 and random_state=0\n",
        "kmeans = KMeans(n_clusters=2, random_state=0, n_init=10)\n",
        "\n",
        "# Fit the model and get cluster labels\n",
        "cluster_labels = kmeans.fit_predict(fruit)\n",
        "\n",
        "# Add cluster labels to the fruit DataFrame\n",
        "fruit['cluster'] = cluster_labels\n",
        "\n",
        "# Print the updated fruit DataFrame\n",
        "print(\"Fruit Clustering Result:\")\n",
        "display(fruit)"
      ],
      "execution_count": null,
      "outputs": []
    },
    {
      "cell_type": "markdown",
      "metadata": {
        "id": "4d955d9b"
      },
      "source": [
        "## Translate logistic regression\n",
        "\n",
        "### Subtask:\n",
        "Convert the R logistic regression code to Python using scikit-learn.\n"
      ]
    },
    {
      "cell_type": "markdown",
      "metadata": {
        "id": "30322cb5"
      },
      "source": [
        "**Reasoning**:\n",
        "Translate the R logistic regression code to Python using scikit-learn by importing the necessary class, creating and fitting the model, making a prediction, and determining the final outcome.\n",
        "\n"
      ]
    },
    {
      "cell_type": "code",
      "metadata": {
        "id": "f5f1ac4a"
      },
      "source": [
        "import pandas as pd\n",
        "from sklearn.linear_model import LogisticRegression\n",
        "\n",
        "# Create the 'data' DataFrame for credit classification\n",
        "data = pd.DataFrame({\n",
        "    'income': [2300, 4000, 1200, 6000],\n",
        "    'score': [600, 700, 550, 800],\n",
        "    'approved': [0, 1, 0, 1]\n",
        "})\n",
        "\n",
        "# Define features (income and score) and target (approved)\n",
        "X = data[['income', 'score']]\n",
        "y = data['approved']\n",
        "\n",
        "# Create and fit the logistic regression model\n",
        "model = LogisticRegression()\n",
        "model.fit(X, y)\n",
        "\n",
        "# Create a new client DataFrame for prediction\n",
        "new_client = pd.DataFrame({'income': [3000], 'score': [650]})\n",
        "\n",
        "# Predict the probability of approval for the new client\n",
        "pred_prob = model.predict_proba(new_client)[:, 1]\n",
        "\n",
        "# Determine the prediction based on a threshold\n",
        "prediction = \"Approved\" if pred_prob > 0.5 else \"Denied\"\n",
        "\n",
        "# Print the prediction\n",
        "print(f\"Prediction for new client: {prediction}\")"
      ],
      "execution_count": null,
      "outputs": []
    },
    {
      "cell_type": "markdown",
      "metadata": {
        "id": "06213a0e"
      },
      "source": [
        "**Reasoning**:\n",
        "The previous code failed because the 'data' DataFrame did not have the columns 'income' and 'score'. This is likely due to the R code for creating the credit classification data not being translated yet. I will add the Python code to create this DataFrame before attempting the logistic regression again.\n",
        "\n"
      ]
    },
    {
      "cell_type": "code",
      "metadata": {
        "id": "Cb0OAZb-Ro8C"
      },
      "source": [
        "# Create the 'data' DataFrame for credit classification\n",
        "data = pd.DataFrame({\n",
        "    'income': [2300, 4000, 1200, 6000],\n",
        "    'score': [600, 700, 550, 800],\n",
        "    'approved': [0, 1, 0, 1]\n",
        "})\n",
        "\n",
        "from sklearn.linear_model import LogisticRegression\n",
        "\n",
        "# Define features (income and score) and target (approved)\n",
        "X = data[['income', 'score']]\n",
        "y = data['approved']\n",
        "\n",
        "# Create and fit the logistic regression model\n",
        "model = LogisticRegression()\n",
        "model.fit(X, y)\n",
        "\n",
        "# Create a new client DataFrame for prediction\n",
        "new_client = pd.DataFrame({'income': [3000], 'score': [650]})\n",
        "\n",
        "# Predict the probability of approval for the new client\n",
        "pred_prob = model.predict_proba(new_client)[:, 1]\n",
        "\n",
        "# Determine the prediction based on a threshold\n",
        "prediction = \"Approved\" if pred_prob > 0.5 else \"Denied\"\n",
        "\n",
        "# Print the prediction\n",
        "print(f\"Prediction for new client: {prediction}\")"
      ],
      "execution_count": null,
      "outputs": []
    },
    {
      "cell_type": "markdown",
      "metadata": {
        "id": "48848b89"
      },
      "source": [
        "## Present the python code\n",
        "\n",
        "### Subtask:\n",
        "Generate code cells with the translated Python code.\n"
      ]
    },
    {
      "cell_type": "markdown",
      "metadata": {
        "id": "0aa2ddc6"
      },
      "source": [
        "**Reasoning**:\n",
        "Generate code cells with the translated Python code.\n",
        "\n"
      ]
    },
    {
      "cell_type": "code",
      "metadata": {
        "id": "d9800870"
      },
      "source": [
        "# Translated Python code for data creation\n",
        "import pandas as pd\n",
        "\n",
        "# Create sample dataset\n",
        "data = pd.DataFrame({\n",
        "    'age': [25, 30, 22, 40],\n",
        "    'height': [186, 164, 175, 180],\n",
        "    'gender': ['male', 'female', 'male', 'female']\n",
        "})\n",
        "print(\"Custom Dataset:\")\n",
        "display(data)"
      ],
      "execution_count": null,
      "outputs": []
    },
    {
      "cell_type": "markdown",
      "metadata": {
        "id": "4033d735"
      },
      "source": [
        "**Reasoning**:\n",
        "Create the code cell for K-Means clustering translation.\n",
        "\n"
      ]
    },
    {
      "cell_type": "code",
      "metadata": {
        "id": "5b116592"
      },
      "source": [
        "# Translated Python code for K-Means Clustering\n",
        "from sklearn.cluster import KMeans\n",
        "import pandas as pd\n",
        "\n",
        "# K-Means Clustering Example\n",
        "fruit = pd.DataFrame(\n",
        "  {'shape': [5, 4, 1, 2],\n",
        "  'color': [7, 8, 2, 1]}\n",
        ")\n",
        "km = KMeans(n_clusters = 2, random_state=0, n_init=10)\n",
        "fruit['cluster'] = km.fit_predict(fruit)\n",
        "print(\"Fruit Clustering Result:\")\n",
        "display(fruit)"
      ],
      "execution_count": null,
      "outputs": []
    },
    {
      "cell_type": "markdown",
      "metadata": {
        "id": "b6bcfc70"
      },
      "source": [
        "**Reasoning**:\n",
        "Create the code cell for logistic regression translation and finish the subtask.\n",
        "\n"
      ]
    },
    {
      "cell_type": "code",
      "metadata": {
        "id": "54855268"
      },
      "source": [
        "# Translated Python code for Logistic Regression\n",
        "import pandas as pd\n",
        "from sklearn.linear_model import LogisticRegression\n",
        "\n",
        "# Logistic Regression for Credit Classification\n",
        "data = pd.DataFrame(\n",
        "  {'income': [2300, 4000, 1200, 6000],\n",
        "  'score': [600, 700, 550, 800],\n",
        "  'approved': [0, 1, 0, 1]}\n",
        ")\n",
        "model = LogisticRegression()\n",
        "model.fit(data[['income', 'score']], data['approved'])\n",
        "new_client = pd.DataFrame({'income': [3000], 'score': [650]})\n",
        "pred_prob = model.predict_proba(new_client)[:, 1]\n",
        "prediction = \"Approved\" if pred_prob > 0.5 else \"Denied\"\n",
        "print(f\"Prediction for new client: {prediction}\")"
      ],
      "execution_count": null,
      "outputs": []
    },
    {
      "cell_type": "markdown",
      "metadata": {
        "id": "3f3eb093"
      },
      "source": [
        "**Reasoning**:\n",
        "Correct the error by replacing 'c' with Python list syntax and regenerate the code block.\n",
        "\n"
      ]
    },
    {
      "cell_type": "code",
      "metadata": {
        "id": "LqJo4OihRynl"
      },
      "source": [
        "# Translated Python code for Logistic Regression\n",
        "import pandas as pd\n",
        "from sklearn.linear_model import LogisticRegression\n",
        "\n",
        "# Logistic Regression for Credit Classification\n",
        "data = pd.DataFrame(\n",
        "  {'income': [2300, 4000, 1200, 6000],\n",
        "  'score': [600, 700, 550, 800],\n",
        "  'approved': [0, 1, 0, 1]}\n",
        ")\n",
        "model = LogisticRegression()\n",
        "model.fit(data[['income', 'score']], data['approved'])\n",
        "new_client = pd.DataFrame({'income': [3000], 'score': [650]})\n",
        "pred_prob = model.predict_proba(new_client)[:, 1]\n",
        "prediction = \"Approved\" if pred_prob > 0.5 else \"Denied\"\n",
        "print(f\"Prediction for new client: {prediction}\")"
      ],
      "execution_count": null,
      "outputs": []
    },
    {
      "cell_type": "markdown",
      "metadata": {
        "id": "07668a1f"
      },
      "source": [
        "## Summary:\n",
        "\n",
        "### Data Analysis Key Findings\n",
        "\n",
        "*   The R code for creating sample datasets (`data` and `fruit`) was successfully translated into Python using pandas DataFrames.\n",
        "*   The R K-Means clustering code was successfully translated into Python using `sklearn.cluster.KMeans`, resulting in cluster labels added to the `fruit` DataFrame.\n",
        "*   The R logistic regression code was successfully translated into Python using `sklearn.linear_model.LogisticRegression`, allowing for fitting a model to predict credit approval based on income and score and making a prediction for a new client.\n",
        "\n",
        "### Insights or Next Steps\n",
        "\n",
        "*   The direct translation of R functions like `c()` into Python requires replacing them with equivalent Python syntax (e.g., using Python lists or pandas Series).\n",
        "*   The process demonstrates the feasibility of translating statistical and machine learning tasks from R to Python using common libraries like pandas and scikit-learn.\n"
      ]
    },
    {
      "cell_type": "code",
      "metadata": {
        "id": "97841bc5"
      },
      "source": [
        "# Translated Python code for data creation\n",
        "import pandas as pd\n",
        "\n",
        "# Create sample dataset\n",
        "data = pd.DataFrame({\n",
        "    'age': [25, 30, 22, 40],\n",
        "    'height': [186, 164, 175, 180],\n",
        "    'gender': ['male', 'female', 'male', 'female']\n",
        "})\n",
        "print(\"Custom Dataset:\")\n",
        "display(data)"
      ],
      "execution_count": null,
      "outputs": []
    },
    {
      "cell_type": "code",
      "metadata": {
        "id": "ee9db313"
      },
      "source": [
        "# Translated Python code for K-Means Clustering\n",
        "from sklearn.cluster import KMeans\n",
        "import pandas as pd\n",
        "\n",
        "# K-Means Clustering Example\n",
        "fruit = pd.DataFrame(\n",
        "  {'shape': [5, 4, 1, 2],\n",
        "  'color': [7, 8, 2, 1]}\n",
        ")\n",
        "km = KMeans(n_clusters = 2, random_state=0, n_init=10)\n",
        "fruit['cluster'] = km.fit_predict(fruit)\n",
        "print(\"Fruit Clustering Result:\")\n",
        "display(fruit)"
      ],
      "execution_count": null,
      "outputs": []
    },
    {
      "cell_type": "markdown",
      "metadata": {
        "id": "4e2e52d3"
      },
      "source": [
        "## Summary:\n",
        "\n",
        "### Data Analysis Key Findings\n",
        "\n",
        "* The R code for creating sample datasets (`data` and `fruit`) was successfully translated into Python using pandas DataFrames.\n",
        "* The R K-Means clustering code was successfully translated into Python using `sklearn.cluster.KMeans`, resulting in cluster labels added to the `fruit` DataFrame.\n",
        "* The R logistic regression code was successfully translated into Python using `sklearn.linear_model.LogisticRegression`, allowing for fitting a model to predict credit approval based on income and score and making a prediction for a new client.\n",
        "\n",
        "### Insights or Next Steps\n",
        "\n",
        "* The direct translation of R functions like `c()` into Python requires replacing them with equivalent Python syntax (e.g., using Python lists or pandas Series).\n",
        "* The process demonstrates the feasibility of translating statistical and machine learning tasks from R to Python using common libraries like pandas and scikit-learn."
      ]
    }
  ]
}