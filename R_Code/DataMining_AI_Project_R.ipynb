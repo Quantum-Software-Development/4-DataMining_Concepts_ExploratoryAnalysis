{
  "nbformat": 4,
  "nbformat_minor": 0,
  "metadata": {
    "colab": {
      "private_outputs": true,
      "provenance": []
    },
    "kernelspec": {
      "name": "python3",
      "display_name": "Python 3"
    },
    "language_info": {
      "name": "python"
    }
  },
  "cells": [
    {
      "cell_type": "code",
      "source": [
        "from google.colab import userdata\n",
        "userdata.get('GOOGLE_API_KEY_1')"
      ],
      "metadata": {
        "id": "M_hwHEaePlSl"
      },
      "execution_count": null,
      "outputs": []
    },
    {
      "cell_type": "code",
      "metadata": {
        "id": "1598e8b2"
      },
      "source": [
        "%load_ext rpy2.ipython\n",
        "%R options(repr.plot.width=4, repr.plot.height=4)"
      ],
      "execution_count": null,
      "outputs": []
    },
    {
      "cell_type": "code",
      "metadata": {
        "id": "8bace4f7"
      },
      "source": [
        "%%R\n",
        "# Create sample dataset\n",
        "data <- data.frame(\n",
        "  age = c(25, 30, 22, 40),\n",
        "  height = c(186, 164, 175, 180),\n",
        "  gender = c(\"male\", \"female\", \"male\", \"female\")\n",
        ")\n",
        "print(\"Custom Dataset:\")\n",
        "print(data)"
      ],
      "execution_count": null,
      "outputs": []
    },
    {
      "cell_type": "code",
      "metadata": {
        "id": "b583655e"
      },
      "source": [
        "%%R\n",
        "# K-Means Clustering Example\n",
        "fruit <- data.frame(\n",
        "  shape = c(5, 4, 1, 2),\n",
        "  color = c(7, 8, 2, 1)\n",
        ")\n",
        "km <- kmeans(fruit, centers = 2)\n",
        "fruit$cluster <- km$cluster\n",
        "print(\"Fruit Clustering Result:\")\n",
        "print(fruit)"
      ],
      "execution_count": null,
      "outputs": []
    },
    {
      "cell_type": "code",
      "metadata": {
        "id": "6fa190c2"
      },
      "source": [
        "%%R\n",
        "# Logistic Regression for Credit Classification\n",
        "data <- data.frame(\n",
        "  income = c(2300, 4000, 1200, 6000),\n",
        "  score = c(600, 700, 550, 800),\n",
        "  approved = c(0, 1, 0, 1)\n",
        ")\n",
        "model <- glm(approved ~ income + score, family = binomial, data = data)\n",
        "new_client <- data.frame(income = 3000, score = 650)\n",
        "pred_prob <- predict(model, newdata = new_client, type = \"response\")\n",
        "prediction <- ifelse(pred_prob > 0.5, 1, 0)\n",
        "print(paste(\"Prediction for new client:\", ifelse(prediction == 1, \"Approved\", \"Denied\")))"
      ],
      "execution_count": null,
      "outputs": []
    },
    {
      "cell_type": "code",
      "metadata": {
        "id": "309679cf"
      },
      "source": [
        "%%R\n",
        "# Create sample dataset\n",
        "data <- data.frame(\n",
        "  age = c(25, 30, 22, 40),\n",
        "  height = c(186, 164, 175, 180),\n",
        "  gender = c(\"male\", \"female\", \"male\", \"female\")\n",
        ")\n",
        "print(\"Custom Dataset:\")\n",
        "print(data)"
      ],
      "execution_count": null,
      "outputs": []
    },
    {
      "cell_type": "code",
      "metadata": {
        "id": "b5779156"
      },
      "source": [
        "%%R\n",
        "# K-Means Clustering Example\n",
        "fruit <- data.frame(\n",
        "  shape = c(5, 4, 1, 2),\n",
        "  color = c(7, 8, 2, 1)\n",
        ")\n",
        "km <- kmeans(fruit, centers = 2)\n",
        "fruit$cluster <- km$cluster\n",
        "print(\"Fruit Clustering Result:\")\n",
        "print(fruit)"
      ],
      "execution_count": null,
      "outputs": []
    },
    {
      "cell_type": "code",
      "metadata": {
        "id": "0fc2cbbf"
      },
      "source": [
        "%%R\n",
        "# Logistic Regression for Credit Classification\n",
        "data <- data.frame(\n",
        "  income = c(2300, 4000, 1200, 6000),\n",
        "  score = c(600, 700, 550, 800),\n",
        "  approved = c(0, 1, 0, 1)\n",
        ")\n",
        "model <- glm(approved ~ income + score, family = binomial, data = data)\n",
        "new_client <- data.frame(income = 3000, score = 650)\n",
        "pred_prob <- predict(model, newdata = new_client, type = \"response\")\n",
        "prediction <- ifelse(pred_prob > 0.5, 1, 0)\n",
        "print(paste(\"Prediction for new client:\", ifelse(prediction == 1, \"Approved\", \"Denied\")))"
      ],
      "execution_count": null,
      "outputs": []
    }
  ]
}